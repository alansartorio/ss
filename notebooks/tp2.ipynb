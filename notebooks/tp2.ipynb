{
 "cells": [
  {
   "cell_type": "code",
   "execution_count": null,
   "id": "dc92dfcb-187d-4243-a900-16820527208a",
   "metadata": {
    "tags": []
   },
   "outputs": [],
   "source": [
    "import pandas as pd\n",
    "import matplotlib.pyplot as plt\n",
    "import seaborn as sns\n",
    "sns.set()\n",
    "sns.set_palette(sns.color_palette(\"viridis\"))\n",
    "sns.set(rc={'figure.figsize':(15, 15)})"
   ]
  },
  {
   "cell_type": "code",
   "execution_count": null,
   "id": "545328cf-eedf-422b-9738-d4b70f02da45",
   "metadata": {
    "tags": []
   },
   "outputs": [],
   "source": [
    "df = pd.read_pickle('../TP2/data/simulation_runs.pkl')\n",
    "df"
   ]
  },
  {
   "cell_type": "code",
   "execution_count": null,
   "id": "3f31e5a0-5cb8-4b54-ab35-17931b1512b1",
   "metadata": {
    "tags": []
   },
   "outputs": [],
   "source": [
    "options = df[['N', 'noise']].apply(lambda r:f\"N: {r['N']} | noise: {r['noise']}\", axis=1)\n",
    "\n",
    "sns.lineplot(x='t', y='va', hue=options, data=df, palette=sns.color_palette(\"bright\", 15))"
   ]
  }
 ],
 "metadata": {
  "kernelspec": {
   "display_name": "Python 3 (ipykernel)",
   "language": "python",
   "name": "python3"
  },
  "language_info": {
   "codemirror_mode": {
    "name": "ipython",
    "version": 3
   },
   "file_extension": ".py",
   "mimetype": "text/x-python",
   "name": "python",
   "nbconvert_exporter": "python",
   "pygments_lexer": "ipython3",
   "version": "3.10.9"
  }
 },
 "nbformat": 4,
 "nbformat_minor": 5
}
