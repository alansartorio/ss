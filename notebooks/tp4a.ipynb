{
 "cells": [
  {
   "cell_type": "code",
   "execution_count": null,
   "id": "2cdf5313",
   "metadata": {},
   "outputs": [],
   "source": [
    "import pandas as pd\n",
    "import matplotlib.pyplot as plt\n",
    "import matplotlib.ticker as ticker\n",
    "import matplotlib as mpl\n",
    "import seaborn as sns\n",
    "import numpy as np\n",
    "sns.set()\n",
    "sns.set_palette(sns.color_palette(\"viridis\"))\n",
    "sns.set_theme(style=\"white\")\n",
    "sns.set(font_scale=1.5)\n",
    "sns.set(rc={'figure.figsize':(10, 10)})"
   ]
  },
  {
   "cell_type": "code",
   "execution_count": null,
   "id": "de77e7ae",
   "metadata": {},
   "outputs": [],
   "source": [
    "gear = pd.read_csv(\"../TP4A/data/gear.csv\")\n",
    "verlet = pd.read_csv(\"../TP4A/data/verlet.csv\")\n",
    "beeman = pd.read_csv(\"../TP4A/data/beeman.csv\")\n",
    "analytic = pd.read_csv(\"../TP4A/data/analytic.csv\")\n",
    "gear['method'] = 'Gear'\n",
    "verlet['method'] = 'Verlet'\n",
    "beeman['method'] = 'Beeman'\n",
    "analytic['method'] = 'Analytic'\n",
    "\n",
    "df = pd.concat([gear, verlet, beeman, analytic])\n",
    "df"
   ]
  },
  {
   "cell_type": "code",
   "execution_count": null,
   "id": "fabcd57e",
   "metadata": {},
   "outputs": [],
   "source": [
    "sns.lineplot(data = df, x = 't', y = 'r', hue = 'method')\n",
    "# gear.plot(x = 't', y = 'r')"
   ]
  }
 ],
 "metadata": {
  "kernelspec": {
   "display_name": "Python 3 (ipykernel)",
   "language": "python",
   "name": "python3"
  },
  "language_info": {
   "codemirror_mode": {
    "name": "ipython",
    "version": 3
   },
   "file_extension": ".py",
   "mimetype": "text/x-python",
   "name": "python",
   "nbconvert_exporter": "python",
   "pygments_lexer": "ipython3",
   "version": "3.11.3"
  }
 },
 "nbformat": 4,
 "nbformat_minor": 5
}
