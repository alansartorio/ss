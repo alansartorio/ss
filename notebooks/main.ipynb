{
 "cells": [
  {
   "cell_type": "code",
   "execution_count": 219,
   "id": "7cc2cca4",
   "metadata": {
    "tags": []
   },
   "outputs": [],
   "source": [
    "from manim import *\n",
    "import pandas as pd"
   ]
  },
  {
   "cell_type": "code",
   "execution_count": 224,
   "id": "fb5ba740-0683-482b-836f-a511e68f4352",
   "metadata": {
    "tags": []
   },
   "outputs": [],
   "source": [
    "INPUT_FILE_PATH = \"../data/example_input.txt\"\n",
    "OUTPUT_FILE_PATH = \"../data/example_output.txt\"\n",
    "TARGET_PARTICLE_ID = \"14\"\n",
    "\n",
    "with open(INPUT_FILE_PATH, 'r') as f:\n",
    "    N = int(f.readline().rstrip())\n",
    "    L = int(f.readline().rstrip())\n",
    "    M = int(f.readline().rstrip())\n",
    "    Rc = int(f.readline().rstrip())\n",
    "\n",
    "particles_df = pd.read_table(\n",
    "    INPUT_FILE_PATH,\n",
    "    delim_whitespace=True,\n",
    "    names=[\"id \", \"x\", \"y\", \"r\"],\n",
    "    skiprows=4\n",
    ")\n",
    "\n",
    "out_particles_df = pd.read_table(\n",
    "    OUTPUT_FILE_PATH,\n",
    "    delim_whitespace=True,\n",
    "    dtype = str,\n",
    "    header=None,\n",
    ")"
   ]
  },
  {
   "cell_type": "code",
   "execution_count": 225,
   "id": "cd0309f0-43f7-4bb2-bfa6-e27cb22da18b",
   "metadata": {
    "tags": []
   },
   "outputs": [
    {
     "name": "stdout",
     "output_type": "stream",
     "text": [
      "N=100, L=100, M=8, Rc=10\n"
     ]
    },
    {
     "data": {
      "text/html": [
       "<div>\n",
       "<style scoped>\n",
       "    .dataframe tbody tr th:only-of-type {\n",
       "        vertical-align: middle;\n",
       "    }\n",
       "\n",
       "    .dataframe tbody tr th {\n",
       "        vertical-align: top;\n",
       "    }\n",
       "\n",
       "    .dataframe thead th {\n",
       "        text-align: right;\n",
       "    }\n",
       "</style>\n",
       "<table border=\"1\" class=\"dataframe\">\n",
       "  <thead>\n",
       "    <tr style=\"text-align: right;\">\n",
       "      <th></th>\n",
       "      <th>id</th>\n",
       "      <th>x</th>\n",
       "      <th>y</th>\n",
       "      <th>r</th>\n",
       "    </tr>\n",
       "  </thead>\n",
       "  <tbody>\n",
       "    <tr>\n",
       "      <th>0</th>\n",
       "      <td>0</td>\n",
       "      <td>86.936856</td>\n",
       "      <td>45.316160</td>\n",
       "      <td>1.837293</td>\n",
       "    </tr>\n",
       "    <tr>\n",
       "      <th>1</th>\n",
       "      <td>1</td>\n",
       "      <td>82.318046</td>\n",
       "      <td>76.008945</td>\n",
       "      <td>3.305538</td>\n",
       "    </tr>\n",
       "    <tr>\n",
       "      <th>2</th>\n",
       "      <td>2</td>\n",
       "      <td>22.993498</td>\n",
       "      <td>68.493791</td>\n",
       "      <td>1.627378</td>\n",
       "    </tr>\n",
       "    <tr>\n",
       "      <th>3</th>\n",
       "      <td>3</td>\n",
       "      <td>60.956702</td>\n",
       "      <td>20.500474</td>\n",
       "      <td>4.665454</td>\n",
       "    </tr>\n",
       "    <tr>\n",
       "      <th>4</th>\n",
       "      <td>4</td>\n",
       "      <td>63.602024</td>\n",
       "      <td>84.976375</td>\n",
       "      <td>1.605259</td>\n",
       "    </tr>\n",
       "    <tr>\n",
       "      <th>...</th>\n",
       "      <td>...</td>\n",
       "      <td>...</td>\n",
       "      <td>...</td>\n",
       "      <td>...</td>\n",
       "    </tr>\n",
       "    <tr>\n",
       "      <th>95</th>\n",
       "      <td>95</td>\n",
       "      <td>94.441307</td>\n",
       "      <td>95.527458</td>\n",
       "      <td>3.496390</td>\n",
       "    </tr>\n",
       "    <tr>\n",
       "      <th>96</th>\n",
       "      <td>96</td>\n",
       "      <td>54.019573</td>\n",
       "      <td>37.405162</td>\n",
       "      <td>1.349673</td>\n",
       "    </tr>\n",
       "    <tr>\n",
       "      <th>97</th>\n",
       "      <td>97</td>\n",
       "      <td>95.218237</td>\n",
       "      <td>52.354568</td>\n",
       "      <td>3.471978</td>\n",
       "    </tr>\n",
       "    <tr>\n",
       "      <th>98</th>\n",
       "      <td>98</td>\n",
       "      <td>43.788607</td>\n",
       "      <td>19.748488</td>\n",
       "      <td>3.370142</td>\n",
       "    </tr>\n",
       "    <tr>\n",
       "      <th>99</th>\n",
       "      <td>99</td>\n",
       "      <td>58.062328</td>\n",
       "      <td>30.179546</td>\n",
       "      <td>2.293408</td>\n",
       "    </tr>\n",
       "  </tbody>\n",
       "</table>\n",
       "<p>100 rows × 4 columns</p>\n",
       "</div>"
      ],
      "text/plain": [
       "    id           x          y         r\n",
       "0     0  86.936856  45.316160  1.837293\n",
       "1     1  82.318046  76.008945  3.305538\n",
       "2     2  22.993498  68.493791  1.627378\n",
       "3     3  60.956702  20.500474  4.665454\n",
       "4     4  63.602024  84.976375  1.605259\n",
       "..  ...        ...        ...       ...\n",
       "95   95  94.441307  95.527458  3.496390\n",
       "96   96  54.019573  37.405162  1.349673\n",
       "97   97  95.218237  52.354568  3.471978\n",
       "98   98  43.788607  19.748488  3.370142\n",
       "99   99  58.062328  30.179546  2.293408\n",
       "\n",
       "[100 rows x 4 columns]"
      ]
     },
     "execution_count": 225,
     "metadata": {},
     "output_type": "execute_result"
    }
   ],
   "source": [
    "print(f\"\"\"N={N}, L={L}, M={M}, Rc={Rc}\"\"\")\n",
    "particles_df"
   ]
  },
  {
   "cell_type": "code",
   "execution_count": 226,
   "id": "6a54d76f-2e33-46e8-8062-5bc2249c7cc6",
   "metadata": {
    "tags": []
   },
   "outputs": [
    {
     "data": {
      "text/html": [
       "<div>\n",
       "<style scoped>\n",
       "    .dataframe tbody tr th:only-of-type {\n",
       "        vertical-align: middle;\n",
       "    }\n",
       "\n",
       "    .dataframe tbody tr th {\n",
       "        vertical-align: top;\n",
       "    }\n",
       "\n",
       "    .dataframe thead th {\n",
       "        text-align: right;\n",
       "    }\n",
       "</style>\n",
       "<table border=\"1\" class=\"dataframe\">\n",
       "  <thead>\n",
       "    <tr style=\"text-align: right;\">\n",
       "      <th></th>\n",
       "      <th>0</th>\n",
       "      <th>1</th>\n",
       "      <th>2</th>\n",
       "      <th>3</th>\n",
       "      <th>4</th>\n",
       "      <th>5</th>\n",
       "    </tr>\n",
       "  </thead>\n",
       "  <tbody>\n",
       "    <tr>\n",
       "      <th>0</th>\n",
       "      <td>0</td>\n",
       "      <td>1</td>\n",
       "      <td>2</td>\n",
       "      <td>3</td>\n",
       "      <td>4</td>\n",
       "      <td>5</td>\n",
       "    </tr>\n",
       "    <tr>\n",
       "      <th>1</th>\n",
       "      <td>1</td>\n",
       "      <td>2</td>\n",
       "      <td>3</td>\n",
       "      <td>NaN</td>\n",
       "      <td>NaN</td>\n",
       "      <td>NaN</td>\n",
       "    </tr>\n",
       "    <tr>\n",
       "      <th>2</th>\n",
       "      <td>14</td>\n",
       "      <td>1</td>\n",
       "      <td>NaN</td>\n",
       "      <td>NaN</td>\n",
       "      <td>NaN</td>\n",
       "      <td>NaN</td>\n",
       "    </tr>\n",
       "  </tbody>\n",
       "</table>\n",
       "</div>"
      ],
      "text/plain": [
       "    0  1    2    3    4    5\n",
       "0   0  1    2    3    4    5\n",
       "1   1  2    3  NaN  NaN  NaN\n",
       "2  14  1  NaN  NaN  NaN  NaN"
      ]
     },
     "execution_count": 226,
     "metadata": {},
     "output_type": "execute_result"
    }
   ],
   "source": [
    "out_particles_df"
   ]
  },
  {
   "cell_type": "code",
   "execution_count": 239,
   "id": "9f633190-8226-4cb2-b3af-5e7c6de8f087",
   "metadata": {
    "tags": []
   },
   "outputs": [
    {
     "data": {
      "text/html": [
       "<div>\n",
       "<style scoped>\n",
       "    .dataframe tbody tr th:only-of-type {\n",
       "        vertical-align: middle;\n",
       "    }\n",
       "\n",
       "    .dataframe tbody tr th {\n",
       "        vertical-align: top;\n",
       "    }\n",
       "\n",
       "    .dataframe thead th {\n",
       "        text-align: right;\n",
       "    }\n",
       "</style>\n",
       "<table border=\"1\" class=\"dataframe\">\n",
       "  <thead>\n",
       "    <tr style=\"text-align: right;\">\n",
       "      <th></th>\n",
       "      <th>0</th>\n",
       "      <th>1</th>\n",
       "      <th>2</th>\n",
       "      <th>3</th>\n",
       "      <th>4</th>\n",
       "      <th>5</th>\n",
       "    </tr>\n",
       "  </thead>\n",
       "  <tbody>\n",
       "    <tr>\n",
       "      <th>1</th>\n",
       "      <td>1</td>\n",
       "      <td>2</td>\n",
       "      <td>3</td>\n",
       "      <td>NaN</td>\n",
       "      <td>NaN</td>\n",
       "      <td>NaN</td>\n",
       "    </tr>\n",
       "  </tbody>\n",
       "</table>\n",
       "</div>"
      ],
      "text/plain": [
       "   0  1  2    3    4    5\n",
       "1  1  2  3  NaN  NaN  NaN"
      ]
     },
     "execution_count": 239,
     "metadata": {},
     "output_type": "execute_result"
    }
   ],
   "source": [
    "# TODO: agarar del archivo los vecinos de forma correcta y pasarlo a un diccionario de listas\n",
    "target_neighbours_ids = out_particles_df.loc[out_particles_df.iloc[1] == \"TARGET_PARTICLE_ID\"]\n",
    "target_neighbours_ids"
   ]
  },
  {
   "cell_type": "code",
   "execution_count": 214,
   "id": "86e75541-cdfc-4e04-9957-6f3b11857baf",
   "metadata": {
    "tags": []
   },
   "outputs": [
    {
     "data": {
      "image/png": "[encoded data removed]",
      "text/plain": [
       "<IPython.core.display.Image object>"
      ]
     },
     "metadata": {},
     "output_type": "display_data"
    }
   ],
   "source": [
    "%%manim -qm -v WARNING CellIndexMethodScene\n",
    "\n",
    "class CellIndexMethodScene(Scene):\n",
    "    \n",
    "    def construct(self):\n",
    "        self.add(self.axes, self.domain, *self.particles)\n",
    "        \n",
    "    @property\n",
    "    def particles(self):\n",
    "        particles = []\n",
    "        for _, row in particles_df.iterrows():\n",
    "            scalated_radius = row[\"r\"] / L\n",
    "            current_id = str(int(row[0]))\n",
    "            if current_id in target_neighbours_ids:\n",
    "                particle = Circle(radius=scalated_radius, color=YELLOW, fill_opacity=1).move_to(self.axes.c2p(row[\"x\"], row[\"y\"], 0))\n",
    "            elif current_id == TARGET_PARTICLE_ID:\n",
    "                particle = Circle(radius=scalated_radius, color=RED, fill_opacity=1).move_to(self.axes.c2p(row[\"x\"], row[\"y\"], 0))\n",
    "            else:\n",
    "                particle = Circle(radius=scalated_radius, color=BLUE_B, fill_opacity=1).move_to(self.axes.c2p(row[\"x\"], row[\"y\"], 0))\n",
    "            particles.append(particle)\n",
    "        return particles\n",
    "    \n",
    "    @property\n",
    "    def domain(self):\n",
    "        return NumberPlane(\n",
    "            background_line_style={\n",
    "                \"stroke_color\": TEAL,\n",
    "                \"stroke_width\": 1,\n",
    "                \"stroke_opacity\": 0.3\n",
    "            },\n",
    "            x_range=self.cels_tuple,\n",
    "            y_range=self.cels_tuple,\n",
    "            x_length=7,\n",
    "            y_length=7,\n",
    "        )\n",
    "        \n",
    "    @property\n",
    "    def axes(self):\n",
    "        return Axes(\n",
    "            x_range=self.cels_tuple,\n",
    "            y_range=self.cels_tuple,\n",
    "            x_length=7,\n",
    "            y_length=7,\n",
    "            axis_config={\n",
    "                \"font_size\": 20,\n",
    "            },\n",
    "            tips=False,\n",
    "        ).add_coordinates()\n",
    "\n",
    "        \n",
    "    @property\n",
    "    def cels_tuple(self):\n",
    "        \"\"\"\n",
    "        The number of cels is defined by M*M, \n",
    "        this vector represents the [x_min, x_max, x_step]\n",
    "        \"\"\"\n",
    "        return [0, L, L / M]\n"
   ]
  },
  {
   "cell_type": "code",
   "execution_count": null,
   "id": "3b1acec3-b5b4-4d83-9b26-350c38122dec",
   "metadata": {},
   "outputs": [],
   "source": []
  }
 ],
 "metadata": {
  "kernelspec": {
   "display_name": "Python 3 (ipykernel)",
   "language": "python",
   "name": "python3"
  },
  "language_info": {
   "codemirror_mode": {
    "name": "ipython",
    "version": 3
   },
   "file_extension": ".py",
   "mimetype": "text/x-python",
   "name": "python",
   "nbconvert_exporter": "python",
   "pygments_lexer": "ipython3",
   "version": "3.9.12"
  }
 },
 "nbformat": 4,
 "nbformat_minor": 5
}
