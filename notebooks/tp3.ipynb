{
 "cells": [
  {
   "cell_type": "code",
   "execution_count": null,
   "id": "dc92dfcb-187d-4243-a900-16820527208a",
   "metadata": {
    "tags": []
   },
   "outputs": [],
   "source": [
    "import pandas as pd\n",
    "import matplotlib.pyplot as plt\n",
    "import matplotlib.ticker as ticker\n",
    "import seaborn as sns\n",
    "sns.set()\n",
    "sns.set_palette(sns.color_palette(\"viridis\"))\n",
    "sns.set_theme(style=\"white\")\n",
    "sns.set(rc={'figure.figsize':(10, 10)})"
   ]
  },
  {
   "cell_type": "code",
   "execution_count": null,
   "id": "545328cf-eedf-422b-9738-d4b70f02da45",
   "metadata": {
    "tags": []
   },
   "outputs": [],
   "source": [
    "df = pd.read_pickle('../TP3/data/simulation_runs.pkl')\n",
    "df, df.shape"
   ]
  },
  {
   "cell_type": "code",
   "execution_count": null,
   "id": "423eb303-4b9b-4095-8f72-75a0c9d5b4fe",
   "metadata": {
    "tags": []
   },
   "outputs": [],
   "source": [
    "df['duration'] = -df.groupby(['white_y', 'run'])['t'].diff(-1)\n",
    "df"
   ]
  },
  {
   "cell_type": "code",
   "execution_count": null,
   "id": "92937a06",
   "metadata": {},
   "outputs": [],
   "source": [
    "# df.groupby(['white_y'])['duration'].mean().plot(kind='bar')\n",
    "# plt.show()\n",
    "\n",
    "# sns.violinplot(x = 'white_y', y = 'duration', data = df)\n",
    "\n",
    "# df['duration'].hist(by=df['white_y'], bins=50)\n",
    "\n",
    "# Distribucion de tiempo entre eventos\n",
    "df['duration'].hist(bins=20, range=[0, 10])\n",
    "plt.ticklabel_format(style='sci', useMathText=True)\n",
    "\n",
    "# Tiempo medio entre eventos\n",
    "print(f\"Mean time between events: {df['duration'].mean()}\")\n",
    "# Frecuencia media entre eventos\n",
    "print(f\"Mean frequency of events: {(1/df['duration']).mean()}\")"
   ]
  },
  {
   "cell_type": "code",
   "execution_count": null,
   "id": "7f6fcc49",
   "metadata": {},
   "outputs": [],
   "source": [
    "# Agarro los finales de las simulaciones\n",
    "total = df[df['ball_count'] == 0].drop(columns=['ball_count', 'kinetic_energy', 'duration'])\n",
    "\n",
    "# Media de duracion total agrupados por la posicion de la blanca\n",
    "total.groupby(['white_y'])['t'].mean().plot()\n",
    "plt.show()\n",
    "\n",
    "# Distribucion de duracion total agrupados por la posicion de la blanca\n",
    "sns.violinplot(total, x = 'white_y', y = 't')"
   ]
  }
 ],
 "metadata": {
  "kernelspec": {
   "display_name": "Python 3 (ipykernel)",
   "language": "python",
   "name": "python3"
  },
  "language_info": {
   "codemirror_mode": {
    "name": "ipython",
    "version": 3
   },
   "file_extension": ".py",
   "mimetype": "text/x-python",
   "name": "python",
   "nbconvert_exporter": "python",
   "pygments_lexer": "ipython3",
   "version": "3.10.9"
  }
 },
 "nbformat": 4,
 "nbformat_minor": 5
}
